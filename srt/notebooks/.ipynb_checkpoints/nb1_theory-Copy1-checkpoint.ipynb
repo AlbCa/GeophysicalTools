{
 "cells": [
  {
   "cell_type": "markdown",
   "id": "c43b851f-e11d-49b4-93ff-d051efe34861",
   "metadata": {},
   "source": [
    "# Seismic Refraction Method\n",
    "\n",
    "**Author:** Alberto Carrera\n",
    "\n",
    "Seismic refraction is a geophysical method that investigates the subsurface by analyzing the propagation of seismic waves. A source (hammer, weight drop, or small explosive) generates a compressional (P) wave that travels through the ground. Receivers (geophones) record arrival times at different distances from the source. Wave speed and travel path are controlled by the elastic properties and layering of the subsurface.\n",
    "\n",
    "<img src=../figures/Refraction.png style=\"width:25%;\"/>\n",
    "\n",
    "## Theoretical Background\n",
    "\n",
    "Seismic refraction relies on **elastic wave propagation**, governed by the wave equation:\n",
    "\n",
    "$$\n",
    "\\nabla^2 u(x,t) = \\frac{1}{v^2} \\frac{\\partial^2 u(x,t)}{\\partial t^2}\n",
    "$$\n",
    "\n",
    "- $u(x,t)$: displacement field  \n",
    "- $v$: P-wave velocity (depends on density $\\rho$ and elastic moduli)  \n",
    "\n",
    "> In refraction surveys, waves travel faster in denser or more rigid layers and bend at interfaces according to Snell’s law.\n",
    "\n",
    "---\n",
    "\n",
    "### Key Concepts\n",
    "\n",
    "#### 1. Travel-Time Curve\n",
    "First-arrival times of seismic waves are recorded as a function of source–receiver distance:\n",
    "\n",
    "- **Direct waves**: travel through the first layer along the surface  \n",
    "- **Refracted waves**: travel along deeper layers and return to the surface  \n",
    "- **Critical refraction** occurs at angles where waves travel along a layer boundary\n",
    "\n",
    "#### 2. Snell’s Law\n",
    "At an interface between layers with velocities $v_1$ and $v_2$:\n",
    "\n",
    "$$\n",
    "\\frac{\\sin \\theta_1}{v_1} = \\frac{\\sin \\theta_2}{v_2}\n",
    "$$\n",
    "\n",
    "- $\\theta_1$, $\\theta_2$: angles of incidence and refraction  \n",
    "- $v_1 < v_2$ for typical increasing-velocity layers  \n",
    "- Governs the path of refracted waves and the slope of the travel-time curve\n",
    "\n",
    "#### 3. Layer Depth Estimation\n",
    "Layer thickness $h_i$ can be derived from intercept times $t_i$ of the travel-time curve:\n",
    "\n",
    "$$\n",
    "h_i = \\frac{v_i \\, v_{i+1} \\, t_i}{2 \\sqrt{v_{i+1}^2 - v_i^2}}\n",
    "$$\n",
    "\n",
    "- $v_i$, $v_{i+1}$: velocities of the i-th and (i+1)-th layers  \n",
    "- $t_i$: intercept time of the refracted wave at layer $i$\n",
    "\n",
    "---\n",
    "\n",
    "**References:**  \n",
    "- Kearey, P., Brooks, M., Hill, I. (2013). *An Introduction to Geophysical Exploration*. 3rd Edition.  \n",
    "- Sheriff, R. E., Geldart, L. P. (1995). *Exploration Seismology*.\n"
   ]
  },
  {
   "cell_type": "code",
   "execution_count": null,
   "id": "27a369c1-1f1d-4ab7-8089-47e7826017e7",
   "metadata": {},
   "outputs": [],
   "source": []
  }
 ],
 "metadata": {
  "kernelspec": {
   "display_name": "Python 3 (ipykernel)",
   "language": "python",
   "name": "python3"
  },
  "language_info": {
   "codemirror_mode": {
    "name": "ipython",
    "version": 3
   },
   "file_extension": ".py",
   "mimetype": "text/x-python",
   "name": "python",
   "nbconvert_exporter": "python",
   "pygments_lexer": "ipython3",
   "version": "3.11.9"
  }
 },
 "nbformat": 4,
 "nbformat_minor": 5
}
